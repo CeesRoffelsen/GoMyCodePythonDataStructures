{
 "cells": [
  {
   "cell_type": "code",
   "execution_count": 1,
   "id": "cb98dc9a",
   "metadata": {},
   "outputs": [
    {
     "name": "stdout",
     "output_type": "stream",
     "text": [
      "36\n"
     ]
    }
   ],
   "source": [
    "'''Question1: \n",
    "\n",
    "Write a Python program to multiplies all the items in a list.\n",
    "\n",
    "for example list=[2, 3, 6]\n",
    "\n",
    "result = 36'''\n",
    "y = 1\n",
    "lst = [2, 3, 6]\n",
    "for x in lst:\n",
    "    y = y*x\n",
    "print(y)"
   ]
  },
  {
   "cell_type": "code",
   "execution_count": 2,
   "id": "88cbf34f",
   "metadata": {},
   "outputs": [
    {
     "name": "stdout",
     "output_type": "stream",
     "text": [
      "[(2, 1), (1, 2), (2, 3), (4, 4), (2, 5)]\n"
     ]
    }
   ],
   "source": [
    "'''Write a Python program to get a list, sorted in increasing order by the last element in each tuple from a given list of \n",
    "non-empty tuples.\n",
    "Sample List : [(2, 5), (1, 2), (4, 4), (2, 3), (2, 1)]\n",
    "Expected Result : [(2, 1), (1, 2), (2, 3), (4, 4), (2, 5)]\n",
    "\n",
    "Hint: You can use sort function'''\n",
    "\n",
    "def last_element(args):\n",
    "    return args[1]\n",
    "tList = [(2, 5), (1, 2), (4, 4), (2, 3), (2, 1)]\n",
    "tList.sort(key=last_element)\n",
    "print(tList)"
   ]
  },
  {
   "cell_type": "code",
   "execution_count": 3,
   "id": "b442f95f",
   "metadata": {},
   "outputs": [
    {
     "name": "stdout",
     "output_type": "stream",
     "text": [
      "{'a': 400, 'b': 400, 'c': 300, 'd': 400}\n"
     ]
    }
   ],
   "source": [
    "'''Question3: \n",
    "\n",
    "Write a Python program to combine two dictionary adding values for common keys.\n",
    "\n",
    "d1 = {'a': 100, 'b': 200, 'c':300}\n",
    "d2 = {'a': 300, 'b': 200, 'd':400}\n",
    "Expected output: {'a': 400, 'b': 400, 'd': 400, 'c': 300}'''\n",
    "\n",
    "d1 = {'a': 100, 'b': 200, 'c':300}\n",
    "d2 = {'a': 300, 'b': 200, 'd':400}\n",
    "d3 = dict(d1)\n",
    "d3.update(d2) \n",
    "for i, j in d1.items():\n",
    "    for x, y in d2.items():\n",
    "        if i == x:\n",
    "            d3[i]=(j+y)\n",
    "print(d3)"
   ]
  },
  {
   "cell_type": "code",
   "execution_count": 4,
   "id": "c8351310",
   "metadata": {},
   "outputs": [
    {
     "name": "stdout",
     "output_type": "stream",
     "text": [
      "8\n",
      "{1: 1, 2: 4, 3: 9, 4: 16, 5: 25, 6: 36, 7: 49, 8: 64}\n"
     ]
    }
   ],
   "source": [
    "'''Question 4\n",
    "\n",
    "Question: With a given integral number n, write a program to generate a dictionary that contains (i, i*i) \n",
    "such that is an integral number between 1 and n (both included). and then the program should print the dictionary. \n",
    "Suppose the following input is supplied to the program: \n",
    "8 Then, the output should be: {1: 1, 2: 4, 3: 9, 4: 16, 5: 25, 6: 36, 7: 49, 8: 64}'''\n",
    "\n",
    "n = int(input())\n",
    "dict1 = {i:i*i for i in range (1,n+1)} \n",
    "print (dict1)"
   ]
  },
  {
   "cell_type": "code",
   "execution_count": 5,
   "id": "56471707",
   "metadata": {},
   "outputs": [
    {
     "name": "stdout",
     "output_type": "stream",
     "text": [
      "[('item3', '24.5'), ('item2', '15.10'), ('item1', '12.20')]\n"
     ]
    }
   ],
   "source": [
    "'''Question 5: \n",
    "\n",
    "Write a program to sort a tuple by its float element.\n",
    "For example list= [('item1', '12.20'), ('item2', '15.10'), ('item3', '24.5')]\n",
    "Expected Output: [('item3', '24.5'), ('item2', '15.10'), ('item1', '12.20')]'''\n",
    "def Sort_Tuple(tup): \n",
    "    return(sorted(tup, key = lambda x: x[1], reverse=True))  \n",
    "tup = [('item1', '12.20'), ('item2', '15.10'), ('item3', '24.5')]\n",
    "print(Sort_Tuple(tup)) "
   ]
  }
 ],
 "metadata": {
  "kernelspec": {
   "display_name": "Python 3",
   "language": "python",
   "name": "python3"
  },
  "language_info": {
   "codemirror_mode": {
    "name": "ipython",
    "version": 3
   },
   "file_extension": ".py",
   "mimetype": "text/x-python",
   "name": "python",
   "nbconvert_exporter": "python",
   "pygments_lexer": "ipython3",
   "version": "3.8.8"
  }
 },
 "nbformat": 4,
 "nbformat_minor": 5
}
